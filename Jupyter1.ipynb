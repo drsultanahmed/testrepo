{
 "cells": [
  {
   "cell_type": "code",
   "execution_count": 1,
   "id": "b7509d47-9811-4425-b98b-0bc3ec917ee9",
   "metadata": {},
   "outputs": [
    {
     "data": {
      "text/plain": [
       "2"
      ]
     },
     "execution_count": 1,
     "metadata": {},
     "output_type": "execute_result"
    }
   ],
   "source": [
    "1+1"
   ]
  },
  {
   "cell_type": "code",
   "execution_count": 2,
   "id": "3bcd79b4-0edc-438e-b4e8-c2f062394e68",
   "metadata": {},
   "outputs": [
    {
     "data": {
      "text/plain": [
       "4"
      ]
     },
     "execution_count": 2,
     "metadata": {},
     "output_type": "execute_result"
    }
   ],
   "source": [
    "2**2"
   ]
  },
  {
   "cell_type": "markdown",
   "id": "64676954-77e2-4d7a-92d3-0142f78d5a17",
   "metadata": {},
   "source": [
    "[a]"
   ]
  },
  {
   "cell_type": "code",
   "execution_count": 3,
   "id": "8d7aa9a9-be96-4057-85fa-6638cfc9c4a0",
   "metadata": {
    "tags": []
   },
   "outputs": [
    {
     "data": {
      "text/plain": [
       "0"
      ]
     },
     "execution_count": 3,
     "metadata": {},
     "output_type": "execute_result"
    }
   ],
   "source": [
    "2^2"
   ]
  },
  {
   "cell_type": "markdown",
   "id": "84aa3718-52ca-4966-bb46-10979a2002dd",
   "metadata": {},
   "source": [
    "##this is a markdown"
   ]
  },
  {
   "cell_type": "code",
   "execution_count": null,
   "id": "78593637-8684-4e65-aff6-90f9f066f356",
   "metadata": {},
   "outputs": [],
   "source": [
    "[a]-"
   ]
  },
  {
   "cell_type": "code",
   "execution_count": null,
   "id": "1f383640-9c78-449a-9eb7-2ebadf41c9a1",
   "metadata": {},
   "outputs": [],
   "source": []
  }
 ],
 "metadata": {
  "kernelspec": {
   "display_name": "Python",
   "language": "python",
   "name": "conda-env-python-py"
  },
  "language_info": {
   "codemirror_mode": {
    "name": "ipython",
    "version": 3
   },
   "file_extension": ".py",
   "mimetype": "text/x-python",
   "name": "python",
   "nbconvert_exporter": "python",
   "pygments_lexer": "ipython3",
   "version": "3.6.13"
  }
 },
 "nbformat": 4,
 "nbformat_minor": 5
}
